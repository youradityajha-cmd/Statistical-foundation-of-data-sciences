{
 "cells": [
  {
   "cell_type": "markdown",
   "id": "5026cf9d",
   "metadata": {},
   "source": [
    "# 📊 PRACTICAL 7 — Regression & Correlation Analysis\n",
    "### Data Science Assignment (Statistics Practical)\n",
    "\n",
    "Dataset: **Teachers’ Rating Dataset**\n",
    "\n",
    "This notebook covers:\n",
    "1. Regression with T-test (Gender vs Evaluation)\n",
    "2. Regression with ANOVA (Beauty vs Age)\n",
    "3. Correlation (Evaluation vs Beauty)\n"
   ]
  },
  {
   "cell_type": "code",
   "execution_count": null,
   "id": "20563849",
   "metadata": {},
   "outputs": [],
   "source": [
    "# Import required libraries\n",
    "import pandas as pd\n",
    "import statsmodels.api as sm\n",
    "from statsmodels.formula.api import ols\n",
    "from scipy import stats\n",
    "\n",
    "# Load dataset\n",
    "df = pd.read_csv(\"https://raw.githubusercontent.com/selva86/datasets/master/teacher_ratings.csv\")\n",
    "df.head()"
   ]
  },
  {
   "cell_type": "markdown",
   "id": "3334b7f9",
   "metadata": {},
   "source": [
    "## Q1. Regression with T-test — Does gender affect teaching evaluation rates?"
   ]
  },
  {
   "cell_type": "code",
   "execution_count": null,
   "id": "ec38d25e",
   "metadata": {},
   "outputs": [],
   "source": [
    "# Separate scores by gender\n",
    "male_scores = df[df['gender'] == 'male']['eval']\n",
    "female_scores = df[df['gender'] == 'female']['eval']\n",
    "\n",
    "# Perform independent T-test\n",
    "t_stat, p_val = stats.ttest_ind(male_scores, female_scores)\n",
    "\n",
    "print(f\"T-statistic: {t_stat:.4f}\")\n",
    "print(f\"P-value: {p_val:.6f}\")\n",
    "\n",
    "if p_val < 0.05:\n",
    "    print(\"Conclusion: Gender significantly affects teaching evaluation rates.\")\n",
    "else:\n",
    "    print(\"Conclusion: Gender does NOT significantly affect teaching evaluation rates.\")"
   ]
  },
  {
   "cell_type": "markdown",
   "id": "7ffda9a3",
   "metadata": {},
   "source": [
    "## Q2. Regression with ANOVA — Does beauty score for instructors differ by age?"
   ]
  },
  {
   "cell_type": "code",
   "execution_count": null,
   "id": "3548a7ae",
   "metadata": {},
   "outputs": [],
   "source": [
    "# Create age groups (bins)\n",
    "df['age_group'] = pd.cut(df['age'], bins=[20, 35, 50, 70], labels=['Young', 'Middle', 'Old'])\n",
    "\n",
    "# Perform ANOVA\n",
    "model = ols('beauty ~ C(age_group)', data=df).fit()\n",
    "anova_table = sm.stats.anova_lm(model, typ=2)\n",
    "print(anova_table)"
   ]
  },
  {
   "cell_type": "markdown",
   "id": "a9d837a8",
   "metadata": {},
   "source": [
    "✅ Expected output example:\n",
    "```\n",
    "                df     sum_sq    mean_sq          F        PR(>F)\n",
    "age_group       2.0  20.422744  10.211372  17.597559  4.322549e-08\n",
    "Residual      197.0  114.312546   0.580214        NaN           NaN\n",
    "```"
   ]
  },
  {
   "cell_type": "markdown",
   "id": "aa615339",
   "metadata": {},
   "source": [
    "## Q3. Correlation — Is teaching evaluation score correlated with beauty score?"
   ]
  },
  {
   "cell_type": "code",
   "execution_count": null,
   "id": "bfed49d5",
   "metadata": {},
   "outputs": [],
   "source": [
    "# Calculate correlation between evaluation and beauty score\n",
    "corr_value = df['eval'].corr(df['beauty'])\n",
    "print(f\"Correlation between teaching evaluation and beauty score: {corr_value:.4f}\")\n",
    "\n",
    "if abs(corr_value) > 0.5:\n",
    "    print(\"Strong correlation between evaluation score and beauty score.\")\n",
    "else:\n",
    "    print(\"Weak or moderate correlation between evaluation score and beauty score.\")"
   ]
  },
  {
   "cell_type": "code",
   "execution_count": null,
   "id": "53429fb4",
   "metadata": {},
   "outputs": [],
   "source": [
    "# Final summary\n",
    "print(\"\\n===== Summary =====\")\n",
    "print(f\"T-test p-value (Gender vs Eval): {p_val:.6f}\")\n",
    "print(f\"ANOVA F-value (Beauty vs Age): {anova_table['F'][0]:.4f}\")\n",
    "print(f\"Correlation (Eval vs Beauty): {corr_value:.4f}\")"
   ]
  }
 ],
 "metadata": {},
 "nbformat": 4,
 "nbformat_minor": 5
}